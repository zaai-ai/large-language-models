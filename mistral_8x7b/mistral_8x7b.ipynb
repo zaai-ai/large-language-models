{
 "cells": [
  {
   "cell_type": "markdown",
   "metadata": {},
   "source": [
    "# Mistral vs LLama 2"
   ]
  },
  {
   "cell_type": "markdown",
   "metadata": {},
   "source": [
    "### Import Libraries"
   ]
  },
  {
   "cell_type": "code",
   "execution_count": null,
   "metadata": {},
   "outputs": [],
   "source": [
    "from encoder.encoder import Encoder\n",
    "from retriever.vector_db import VectorDatabase\n",
    "from langchain.docstore.document import Document\n",
    "from generator.generator import Generator\n",
    "import pandas as pd\n",
    "import time\n",
    "import seaborn as sns\n",
    "import matplotlib.pyplot as plt\n",
    "import re\n",
    "\n",
    "\n",
    "llama = Generator(model='llama')\n",
    "mistral = Generator(model='mistral')\n",
    "llama70b = Generator(model='llama70b')\n",
    "mistral8x7b = Generator(model='mistral8x7b')\n",
    "encoder = Encoder()\n",
    "vectordb = VectorDatabase(encoder.encoder)"
   ]
  },
  {
   "cell_type": "markdown",
   "metadata": {},
   "source": [
    "### Load Data and insert into vector database"
   ]
  },
  {
   "cell_type": "code",
   "execution_count": 3,
   "metadata": {},
   "outputs": [],
   "source": [
    "df = pd.read_csv(\"data/data.csv\")"
   ]
  },
  {
   "cell_type": "code",
   "execution_count": 4,
   "metadata": {},
   "outputs": [],
   "source": [
    "df[\"full_review\"] = df[[\"reviews.title\", \"reviews.text\"]].apply(\n",
    "    lambda row: \". \".join(row.values.astype(str)), axis=1\n",
    ")\n",
    "for product_id in df[\"asins\"].unique()[:10]:\n",
    "    # create documents to store in Postgres\n",
    "    docs = [\n",
    "        Document(page_content=item)\n",
    "        for item in df[df[\"asins\"] == product_id][\"full_review\"].tolist()\n",
    "    ]\n",
    "\n",
    "    passages = vectordb.create_passages_from_documents(docs)\n",
    "    vectordb.store_passages_db(passages, product_id)"
   ]
  },
  {
   "cell_type": "markdown",
   "metadata": {},
   "source": [
    "### Generate queries and context"
   ]
  },
  {
   "cell_type": "code",
   "execution_count": 5,
   "metadata": {},
   "outputs": [],
   "source": [
    "# generate 2 questions for each product id (20 questions in total)\n",
    "questions = [f\"{product_id}|What people like about the product?\" for product_id in df[\"asins\"].unique()[:10]] + [f\"{product_id}|What people dislike about the product?\" for product_id in df[\"asins\"].unique()[:10]]\n",
    "\n",
    "# retrieve query and context to give to llama and mistral\n",
    "QUERIES = []\n",
    "CONTEXTS = []\n",
    "\n",
    "for q in questions:\n",
    "    id = q.split(\"|\")[0]\n",
    "    query = q.split(\"|\")[1]\n",
    "    context = vectordb.retrieve_most_similar_document(query, k=2, id=id)\n",
    "    QUERIES.append(query)\n",
    "    CONTEXTS.append(context)"
   ]
  },
  {
   "cell_type": "markdown",
   "metadata": {},
   "source": [
    "### Create dictionary to save metrics"
   ]
  },
  {
   "cell_type": "code",
   "execution_count": 23,
   "metadata": {},
   "outputs": [],
   "source": [
    "llama_metrics = {\n",
    "    \"words_per_second\": [],\n",
    "    \"words\": []\n",
    "}\n",
    "\n",
    "mistral_metrics = {\n",
    "    \"words_per_second\": [],\n",
    "    \"words\": []\n",
    "}\n",
    "\n",
    "llama70b_metrics = {\n",
    "    \"words_per_second\": [],\n",
    "    \"words\": []\n",
    "}\n",
    "\n",
    "mistral8x7b_metrics = {\n",
    "    \"words_per_second\": [],\n",
    "    \"words\": []\n",
    "}"
   ]
  },
  {
   "cell_type": "markdown",
   "metadata": {},
   "source": [
    "### Gather metrics"
   ]
  },
  {
   "cell_type": "code",
   "execution_count": null,
   "metadata": {},
   "outputs": [],
   "source": [
    "for query, context in zip(QUERIES, CONTEXTS):\n",
    "\n",
    "    # llama\n",
    "    init_time = time.time()\n",
    "    answer = llama.get_answer(context, query)\n",
    "    total_time = time.time()-init_time\n",
    "    llama_metrics[\"words_per_second\"].append(len(re.sub(\"[^a-zA-Z']+\", ' ', answer).split())/total_time)\n",
    "    llama_metrics[\"words\"].append(len(re.sub(\"[^a-zA-Z']+\", ' ', answer).split()))\n",
    "\n",
    "    # mistral\n",
    "    init_time = time.time()\n",
    "    answer = mistral.get_answer(context, query)\n",
    "    total_time = time.time()-init_time\n",
    "    mistral_metrics[\"words_per_second\"].append(len(re.sub(\"[^a-zA-Z']+\", ' ', answer).split())/total_time)\n",
    "    mistral_metrics[\"words\"].append(len(re.sub(\"[^a-zA-Z']+\", ' ', answer).split()))\n",
    "\n",
    "    # llama 70b\n",
    "    init_time = time.time()\n",
    "    answer = llama70b.get_answer(context, query)\n",
    "    total_time = time.time()-init_time\n",
    "    llama70b_metrics[\"words_per_second\"].append(len(re.sub(\"[^a-zA-Z']+\", ' ', answer).split())/total_time)\n",
    "    llama70b_metrics[\"words\"].append(len(re.sub(\"[^a-zA-Z']+\", ' ', answer).split()))\n",
    "\n",
    "    # mistral 8x7b\n",
    "    init_time = time.time()\n",
    "    answer = mistral8x7b.get_answer(context, query)\n",
    "    total_time = time.time()-init_time\n",
    "    mistral8x7b_metrics[\"words_per_second\"].append(len(re.sub(\"[^a-zA-Z']+\", ' ', answer).split())/total_time)\n",
    "    mistral8x7b_metrics[\"words\"].append(len(re.sub(\"[^a-zA-Z']+\", ' ', answer).split()))"
   ]
  },
  {
   "cell_type": "markdown",
   "metadata": {},
   "source": [
    "### Metrics comparison"
   ]
  },
  {
   "cell_type": "markdown",
   "metadata": {},
   "source": [
    "#### Mistral 7B vs Llama 2 7b"
   ]
  },
  {
   "cell_type": "code",
   "execution_count": 26,
   "metadata": {},
   "outputs": [],
   "source": [
    "mistral_metrics = pd.DataFrame(mistral_metrics)\n",
    "mistral_metrics['model'] = 'Mistral 7B'\n",
    "llama_metrics = pd.DataFrame(llama_metrics)\n",
    "llama_metrics['model'] = 'Llama 2 7B'\n",
    "\n",
    "# create single data frame for plotting\n",
    "metrics = pd.concat([mistral_metrics, llama_metrics])"
   ]
  },
  {
   "cell_type": "code",
   "execution_count": 28,
   "metadata": {},
   "outputs": [
    {
     "data": {
      "image/png": "[encoded data removed]",
      "text/plain": [
       "<Figure size 1500x500 with 2 Axes>"
      ]
     },
     "metadata": {},
     "output_type": "display_data"
    }
   ],
   "source": [
    "fig, axes = plt.subplots(1, 2, figsize=(15, 5))\n",
    "fig.suptitle('Mistral 7B vs LLama 2 7B')\n",
    "\n",
    "sns.barplot(ax=axes[0], data=metrics, y='words_per_second', x='model', hue='model', palette=[\"#dd4fe4\", \"#070620\"])\n",
    "axes[0].set_title(\"Words per second\")\n",
    "\n",
    "sns.barplot(ax=axes[1], data=metrics, y='words', x='model', hue='model', palette=[\"#dd4fe4\", \"#070620\"])\n",
    "axes[1].set_title(\"Avg Answer length\")\n",
    "\n",
    "plt.show()"
   ]
  },
  {
   "cell_type": "markdown",
   "metadata": {},
   "source": [
    "#### Mistral 8x7B vs Llama 2 70B"
   ]
  },
  {
   "cell_type": "code",
   "execution_count": null,
   "metadata": {},
   "outputs": [],
   "source": [
    "mistral8x7b_metrics = pd.DataFrame(mistral8x7b_metrics)\n",
    "mistral8x7b_metrics['model'] = 'Mistral 8x7B'\n",
    "llama70b_metrics = pd.DataFrame(llama70b_metrics)\n",
    "llama70b_metrics['model'] = 'Llama 2 70B'\n",
    "\n",
    "# create single data frame for plotting\n",
    "metrics = pd.concat([mistral8x7b_metrics, llama70b_metrics])"
   ]
  },
  {
   "cell_type": "code",
   "execution_count": null,
   "metadata": {},
   "outputs": [],
   "source": [
    "fig, axes = plt.subplots(1, 2, figsize=(15, 5))\n",
    "fig.suptitle('Mistral 8x7B vs LLama 2 70B')\n",
    "\n",
    "sns.barplot(ax=axes[0], data=metrics, y='words_per_second', x='model', hue='model', palette=[\"#dd4fe4\", \"#070620\"])\n",
    "axes[0].set_title(\"Words per second\")\n",
    "\n",
    "sns.barplot(ax=axes[1], data=metrics, y='words', x='model', hue='model', palette=[\"#dd4fe4\", \"#070620\"])\n",
    "axes[1].set_title(\"Avg Answer length\")\n",
    "\n",
    "plt.show()"
   ]
  }
 ],
 "metadata": {
  "kernelspec": {
   "display_name": "zaai",
   "language": "python",
   "name": "python3"
  },
  "language_info": {
   "codemirror_mode": {
    "name": "ipython",
    "version": 3
   },
   "file_extension": ".py",
   "mimetype": "text/x-python",
   "name": "python",
   "nbconvert_exporter": "python",
   "pygments_lexer": "ipython3",
   "version": "3.10.13"
  }
 },
 "nbformat": 4,
 "nbformat_minor": 2
}
