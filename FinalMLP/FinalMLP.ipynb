{
 "cells": [
  {
   "cell_type": "markdown",
   "metadata": {},
   "source": [
    "## Load Libraries"
   ]
  },
  {
   "cell_type": "code",
   "execution_count": 1,
   "metadata": {},
   "outputs": [
    {
     "name": "stderr",
     "output_type": "stream",
     "text": [
      "/Users/rafael/miniconda3/envs/recsys/lib/python3.7/site-packages/tqdm/auto.py:21: TqdmWarning: IProgress not found. Please update jupyter and ipywidgets. See https://ipywidgets.readthedocs.io/en/stable/user_install.html\n",
      "  from .autonotebook import tqdm as notebook_tqdm\n"
     ]
    }
   ],
   "source": [
    "%matplotlib inline\n",
    "%load_ext autoreload\n",
    "%autoreload 2\n",
    "import pandas as pd\n",
    "import seaborn as sns\n",
    "import matplotlib.pyplot as plt\n",
    "import numpy as np\n",
    "import random\n",
    "from sklearn.metrics import ndcg_score\n",
    "from sklearn.decomposition import PCA\n",
    "from sentence_transformers import SentenceTransformer\n",
    "import os\n",
    "import logging\n",
    "from fuxictr.utils import load_config, set_logger, print_to_json\n",
    "from fuxictr.features import FeatureMap\n",
    "from fuxictr.pytorch.torch_utils import seed_everything\n",
    "from fuxictr.pytorch.dataloaders import H5DataLoader\n",
    "from fuxictr.preprocess import FeatureProcessor, build_dataset\n",
    "import src\n",
    "import gc\n",
    "import os"
   ]
  },
  {
   "cell_type": "markdown",
   "metadata": {},
   "source": [
    "## Load Data"
   ]
  },
  {
   "cell_type": "code",
   "execution_count": 2,
   "metadata": {},
   "outputs": [
    {
     "name": "stderr",
     "output_type": "stream",
     "text": [
      "/Users/rafael/miniconda3/envs/recsys/lib/python3.7/site-packages/IPython/core/interactiveshell.py:3552: DtypeWarning: Columns (3) have mixed types.Specify dtype option on import or set low_memory=False.\n",
      "  exec(code_obj, self.user_global_ns, self.user_ns)\n"
     ]
    },
    {
     "data": {
      "text/html": [
       "<div>\n",
       "<style scoped>\n",
       "    .dataframe tbody tr th:only-of-type {\n",
       "        vertical-align: middle;\n",
       "    }\n",
       "\n",
       "    .dataframe tbody tr th {\n",
       "        vertical-align: top;\n",
       "    }\n",
       "\n",
       "    .dataframe thead th {\n",
       "        text-align: right;\n",
       "    }\n",
       "</style>\n",
       "<table border=\"1\" class=\"dataframe\">\n",
       "  <thead>\n",
       "    <tr style=\"text-align: right;\">\n",
       "      <th></th>\n",
       "      <th>User-ID</th>\n",
       "      <th>Location</th>\n",
       "      <th>Age</th>\n",
       "      <th>ISBN</th>\n",
       "      <th>Book-Rating</th>\n",
       "      <th>Book-Title</th>\n",
       "      <th>Book-Author</th>\n",
       "      <th>Year-Of-Publication</th>\n",
       "      <th>Publisher</th>\n",
       "      <th>Image-URL-S</th>\n",
       "      <th>Image-URL-M</th>\n",
       "      <th>Image-URL-L</th>\n",
       "    </tr>\n",
       "  </thead>\n",
       "  <tbody>\n",
       "    <tr>\n",
       "      <th>0</th>\n",
       "      <td>1</td>\n",
       "      <td>nyc, new york, usa</td>\n",
       "      <td>NaN</td>\n",
       "      <td>NaN</td>\n",
       "      <td>NaN</td>\n",
       "      <td>NaN</td>\n",
       "      <td>NaN</td>\n",
       "      <td>NaN</td>\n",
       "      <td>NaN</td>\n",
       "      <td>NaN</td>\n",
       "      <td>NaN</td>\n",
       "      <td>NaN</td>\n",
       "    </tr>\n",
       "    <tr>\n",
       "      <th>1</th>\n",
       "      <td>2</td>\n",
       "      <td>stockton, california, usa</td>\n",
       "      <td>18.0</td>\n",
       "      <td>0195153448</td>\n",
       "      <td>0.0</td>\n",
       "      <td>Classical Mythology</td>\n",
       "      <td>Mark P. O. Morford</td>\n",
       "      <td>2002</td>\n",
       "      <td>Oxford University Press</td>\n",
       "      <td>http://images.amazon.com/images/P/0195153448.0...</td>\n",
       "      <td>http://images.amazon.com/images/P/0195153448.0...</td>\n",
       "      <td>http://images.amazon.com/images/P/0195153448.0...</td>\n",
       "    </tr>\n",
       "    <tr>\n",
       "      <th>2</th>\n",
       "      <td>3</td>\n",
       "      <td>moscow, yukon territory, russia</td>\n",
       "      <td>NaN</td>\n",
       "      <td>NaN</td>\n",
       "      <td>NaN</td>\n",
       "      <td>NaN</td>\n",
       "      <td>NaN</td>\n",
       "      <td>NaN</td>\n",
       "      <td>NaN</td>\n",
       "      <td>NaN</td>\n",
       "      <td>NaN</td>\n",
       "      <td>NaN</td>\n",
       "    </tr>\n",
       "    <tr>\n",
       "      <th>3</th>\n",
       "      <td>4</td>\n",
       "      <td>porto, v.n.gaia, portugal</td>\n",
       "      <td>17.0</td>\n",
       "      <td>NaN</td>\n",
       "      <td>NaN</td>\n",
       "      <td>NaN</td>\n",
       "      <td>NaN</td>\n",
       "      <td>NaN</td>\n",
       "      <td>NaN</td>\n",
       "      <td>NaN</td>\n",
       "      <td>NaN</td>\n",
       "      <td>NaN</td>\n",
       "    </tr>\n",
       "    <tr>\n",
       "      <th>4</th>\n",
       "      <td>5</td>\n",
       "      <td>farnborough, hants, united kingdom</td>\n",
       "      <td>NaN</td>\n",
       "      <td>NaN</td>\n",
       "      <td>NaN</td>\n",
       "      <td>NaN</td>\n",
       "      <td>NaN</td>\n",
       "      <td>NaN</td>\n",
       "      <td>NaN</td>\n",
       "      <td>NaN</td>\n",
       "      <td>NaN</td>\n",
       "      <td>NaN</td>\n",
       "    </tr>\n",
       "  </tbody>\n",
       "</table>\n",
       "</div>"
      ],
      "text/plain": [
       "   User-ID                            Location   Age        ISBN  Book-Rating  \\\n",
       "0        1                  nyc, new york, usa   NaN         NaN          NaN   \n",
       "1        2           stockton, california, usa  18.0  0195153448          0.0   \n",
       "2        3     moscow, yukon territory, russia   NaN         NaN          NaN   \n",
       "3        4           porto, v.n.gaia, portugal  17.0         NaN          NaN   \n",
       "4        5  farnborough, hants, united kingdom   NaN         NaN          NaN   \n",
       "\n",
       "            Book-Title         Book-Author Year-Of-Publication  \\\n",
       "0                  NaN                 NaN                 NaN   \n",
       "1  Classical Mythology  Mark P. O. Morford                2002   \n",
       "2                  NaN                 NaN                 NaN   \n",
       "3                  NaN                 NaN                 NaN   \n",
       "4                  NaN                 NaN                 NaN   \n",
       "\n",
       "                 Publisher                                        Image-URL-S  \\\n",
       "0                      NaN                                                NaN   \n",
       "1  Oxford University Press  http://images.amazon.com/images/P/0195153448.0...   \n",
       "2                      NaN                                                NaN   \n",
       "3                      NaN                                                NaN   \n",
       "4                      NaN                                                NaN   \n",
       "\n",
       "                                         Image-URL-M  \\\n",
       "0                                                NaN   \n",
       "1  http://images.amazon.com/images/P/0195153448.0...   \n",
       "2                                                NaN   \n",
       "3                                                NaN   \n",
       "4                                                NaN   \n",
       "\n",
       "                                         Image-URL-L  \n",
       "0                                                NaN  \n",
       "1  http://images.amazon.com/images/P/0195153448.0...  \n",
       "2                                                NaN  \n",
       "3                                                NaN  \n",
       "4                                                NaN  "
      ]
     },
     "execution_count": 2,
     "metadata": {},
     "output_type": "execute_result"
    }
   ],
   "source": [
    "books_df = pd.read_csv('data/book/Books.csv')\n",
    "users_df = pd.read_csv('data/book/Users.csv')\n",
    "ratings_df = pd.read_csv('data/book/Ratings.csv')\n",
    "\n",
    "df = pd.merge(users_df, ratings_df, on='User-ID', how='left')\n",
    "df = pd.merge(df, books_df, on='ISBN', how='left')\n",
    "\n",
    "df.head()"
   ]
  },
  {
   "cell_type": "markdown",
   "metadata": {},
   "source": [
    "## Exploratory Data Analysis"
   ]
  },
  {
   "cell_type": "markdown",
   "metadata": {},
   "source": [
    "1. Remove observations where the user did not read the book"
   ]
  },
  {
   "cell_type": "code",
   "execution_count": 3,
   "metadata": {},
   "outputs": [],
   "source": [
    "df = df[df['Book-Rating'].notnull()]"
   ]
  },
  {
   "cell_type": "markdown",
   "metadata": {},
   "source": [
    "2. Check missing values\n",
    " - Replace Book-Author and Publisher with `unknown`"
   ]
  },
  {
   "cell_type": "code",
   "execution_count": 4,
   "metadata": {},
   "outputs": [
    {
     "data": {
      "text/plain": [
       "['Age',\n",
       " 'Book-Title',\n",
       " 'Book-Author',\n",
       " 'Year-Of-Publication',\n",
       " 'Publisher',\n",
       " 'Image-URL-S',\n",
       " 'Image-URL-M',\n",
       " 'Image-URL-L']"
      ]
     },
     "execution_count": 4,
     "metadata": {},
     "output_type": "execute_result"
    }
   ],
   "source": [
    "df.columns[df.isna().any()].tolist()"
   ]
  },
  {
   "cell_type": "code",
   "execution_count": 5,
   "metadata": {},
   "outputs": [],
   "source": [
    "df['Book-Author'] = df['Book-Author'].fillna('unknown')\n",
    "df['Publisher'] = df['Publisher'].fillna('unknown')"
   ]
  },
  {
   "cell_type": "markdown",
   "metadata": {},
   "source": [
    "3. Remove observations with missing information about the book"
   ]
  },
  {
   "cell_type": "code",
   "execution_count": 6,
   "metadata": {},
   "outputs": [],
   "source": [
    "df = df[df['Book-Title'].notnull()]"
   ]
  },
  {
   "cell_type": "markdown",
   "metadata": {},
   "source": [
    "4. Replace non integer Years with Nans"
   ]
  },
  {
   "cell_type": "code",
   "execution_count": 7,
   "metadata": {},
   "outputs": [],
   "source": [
    "df['Year-Of-Publication'] = pd.to_numeric(df['Year-Of-Publication'], errors='coerce')"
   ]
  },
  {
   "cell_type": "markdown",
   "metadata": {},
   "source": [
    "5. Check Age, Year-Of-Publication and Book-Rating distribution"
   ]
  },
  {
   "cell_type": "code",
   "execution_count": 8,
   "metadata": {},
   "outputs": [
    {
     "data": {
      "image/png": "[encoded data removed]",
      "text/plain": [
       "<Figure size 2000x300 with 1 Axes>"
      ]
     },
     "metadata": {},
     "output_type": "display_data"
    },
    {
     "data": {
      "image/png": "[encoded data removed]",
      "text/plain": [
       "<Figure size 2000x300 with 1 Axes>"
      ]
     },
     "metadata": {},
     "output_type": "display_data"
    },
    {
     "data": {
      "image/png": "[encoded data removed]",
      "text/plain": [
       "<Figure size 2000x300 with 1 Axes>"
      ]
     },
     "metadata": {},
     "output_type": "display_data"
    }
   ],
   "source": [
    "plt.rcParams[\"figure.figsize\"] = (20,3)\n",
    "sns.histplot(data=df, x='Age')\n",
    "plt.title('Age Distribution')\n",
    "plt.show()\n",
    "\n",
    "sns.histplot(data=df, x='Year-Of-Publication')\n",
    "plt.title('Year-Of-Publication Distribution')\n",
    "plt.show()\n",
    "\n",
    "sns.histplot(data=df, x='Book-Rating')\n",
    "plt.title('Book-Rating Distribution')\n",
    "plt.show()\n"
   ]
  },
  {
   "cell_type": "markdown",
   "metadata": {},
   "source": [
    "6. Clean up data:\n",
    "    - Replace Ages with values higher than 100 (which seems an error) with Nans\n",
    "    - Replace Year-of-Publication <= 0 with median value and setting the maximum possible year to 2021\n",
    "    - Remove Observations with Rating = 0, since those where books read by the user but they did not rated them\n",
    "    - Create 3 features (city, state, country) from Location\n",
    "    - Create binary label, let's assume that ratings above 7 are interesting for the customer and below or equal to 7 are not interesting"
   ]
  },
  {
   "cell_type": "code",
   "execution_count": 9,
   "metadata": {},
   "outputs": [],
   "source": [
    "df['Age'] = np.where(df['Age'] > 100, None, df['Age'])\n",
    "\n",
    "df['Year-Of-Publication'] = np.where(df['Year-Of-Publication'] <= 0, np.nanmedian(df['Year-Of-Publication']), df['Year-Of-Publication']).clip(0, 2021).astype(str)\n",
    "\n",
    "df = df[df['Book-Rating'] > 0]\n",
    "\n",
    "df['city'] = df['Location'].apply(lambda x: x.split(',')[0].strip()) # too noisy, we will not use\n",
    "df['state'] = df['Location'].apply(lambda x: x.split(',')[1].strip())\n",
    "df['country'] = df['Location'].apply(lambda x: x.split(',')[2].strip())\n",
    "\n",
    "df['label'] = (df['Book-Rating'] > 7)*1"
   ]
  },
  {
   "cell_type": "markdown",
   "metadata": {},
   "source": [
    "## Modeling"
   ]
  },
  {
   "cell_type": "markdown",
   "metadata": {},
   "source": [
    "### Split Test-Train Data"
   ]
  },
  {
   "cell_type": "code",
   "execution_count": 10,
   "metadata": {},
   "outputs": [],
   "source": [
    "# create list with unique users\n",
    "users = df['User-ID'].unique()\n",
    "# shuffle list\n",
    "random.shuffle(users)\n",
    "# create list of users to train and to test\n",
    "train_users = users[:int(0.7*len(users))]\n",
    "val_users = users[int(0.7*len(users)):int(0.8*len(users))]\n",
    "test_users = users[int(0.8*len(users)):]\n",
    "# train and test df\n",
    "train_df = df[df['User-ID'].isin(train_users)]\n",
    "val_df = df[df['User-ID'].isin(val_users)]\n",
    "test_df = df[df['User-ID'].isin(test_users)]"
   ]
  },
  {
   "cell_type": "markdown",
   "metadata": {},
   "source": [
    "### Pre-Process dataset"
   ]
  },
  {
   "cell_type": "markdown",
   "metadata": {},
   "source": [
    "1. Convert textual feature `Book-Title` into embedding vector\n",
    " - Multilingual model to encode `Book-Title` since it is written in different languages\n",
    " - Reduce dimensionality of the embeddings with PCA and 80% of variance explained.\n",
    " - Extract distinct `Book-Title` first in order to not bias the dimensionality reduction if a book was read by more users than other"
   ]
  },
  {
   "cell_type": "code",
   "execution_count": 11,
   "metadata": {},
   "outputs": [],
   "source": [
    "# model to create embeddings\n",
    "model = SentenceTransformer(\"paraphrase-multilingual-MiniLM-L12-v2\")\n",
    "\n",
    "# train, val and test embeddings\n",
    "training_books = train_df.loc[:, [\"ISBN\", \"Book-Title\"]].drop_duplicates()\n",
    "val_books = val_df.loc[:, [\"ISBN\", \"Book-Title\"]].drop_duplicates()\n",
    "test_books = test_df.loc[:, [\"ISBN\", \"Book-Title\"]].drop_duplicates()\n",
    "\n",
    "train_embeddings = model.encode(training_books[\"Book-Title\"].tolist(), normalize_embeddings=True)\n",
    "val_embeddings = model.encode(val_books[\"Book-Title\"].tolist(), normalize_embeddings=True)\n",
    "test_embeddings = model.encode(test_books[\"Book-Title\"].tolist(), normalize_embeddings=True)\n",
    "\n",
    "# reduce dimensionality with PCA\n",
    "pca = PCA(n_components=0.8, random_state=42)\n",
    "train_embeddings = pca.fit_transform(train_embeddings)\n",
    "val_embeddings = pca.fit_transform(val_embeddings)\n",
    "test_embeddings = pca.transform(test_embeddings)\n",
    "\n",
    "# join embeddings to dfs\n",
    "train_embeddings_df = pd.DataFrame(train_embeddings)\n",
    "train_embeddings_df.columns = [f\"Book-Title_{i}\" for i in train_embeddings_df.columns]\n",
    "training_books = pd.merge(training_books.reset_index(drop=True), train_embeddings_df, left_index=True, right_index=True)\n",
    "train_df = pd.merge(train_df, training_books, on=[\"ISBN\", \"Book-Title\"])\n",
    "\n",
    "val_embeddings_df = pd.DataFrame(val_embeddings)\n",
    "val_embeddings_df.columns = [f\"Book-Title_{i}\" for i in val_embeddings_df.columns]\n",
    "val_books = pd.merge(val_books.reset_index(drop=True), val_embeddings_df, left_index=True, right_index=True)\n",
    "val_df = pd.merge(val_df, val_books, on=[\"ISBN\", \"Book-Title\"])\n",
    "\n",
    "test_embeddings_df = pd.DataFrame(test_embeddings)\n",
    "test_embeddings_df.columns = [f\"Book-Title_{i}\" for i in test_embeddings_df.columns]\n",
    "test_books = pd.merge(test_books.reset_index(drop=True), test_embeddings_df, left_index=True, right_index=True)\n",
    "test_df = pd.merge(test_df, test_books, on=[\"ISBN\", \"Book-Title\"])"
   ]
  },
  {
   "cell_type": "markdown",
   "metadata": {},
   "source": [
    "2. Fill missing values of `Age` with mean"
   ]
  },
  {
   "cell_type": "code",
   "execution_count": 12,
   "metadata": {},
   "outputs": [],
   "source": [
    "train_df['Age'] = train_df['Age'].fillna(train_df['Age'].mean())\n",
    "val_df['Age'] = val_df['Age'].fillna(train_df['Age'].mean())\n",
    "test_df['Age'] = test_df['Age'].fillna(train_df['Age'].mean())"
   ]
  },
  {
   "cell_type": "markdown",
   "metadata": {},
   "source": [
    "#### Save pre-processed datasets"
   ]
  },
  {
   "cell_type": "code",
   "execution_count": 13,
   "metadata": {},
   "outputs": [],
   "source": [
    "train_df.to_csv('data/book/train.csv', index=False)\n",
    "val_df.to_csv('data/book/valid.csv', index=False)\n",
    "test_df.to_csv('data/book/test.csv', index=False)"
   ]
  },
  {
   "cell_type": "markdown",
   "metadata": {},
   "source": [
    "### Get model and dataset configurations"
   ]
  },
  {
   "cell_type": "code",
   "execution_count": 2,
   "metadata": {},
   "outputs": [
    {
     "name": "stderr",
     "output_type": "stream",
     "text": [
      "2024-02-06 11:02:35,627 P11785 INFO Params: {\n",
      "    \"batch_size\": \"4096\",\n",
      "    \"data_format\": \"csv\",\n",
      "    \"data_root\": \"./data/book/\",\n",
      "    \"dataset_id\": \"FinalMLP_book\",\n",
      "    \"debug_mode\": \"False\",\n",
      "    \"early_stop_patience\": \"2\",\n",
      "    \"embedding_dim\": \"10\",\n",
      "    \"embedding_regularizer\": \"0.01\",\n",
      "    \"epochs\": \"10\",\n",
      "    \"eval_steps\": \"None\",\n",
      "    \"feature_cols\": \"[{'active': True, 'dtype': 'float', 'name': ['Age', 'Book-Title_0', 'Book-Title_1', 'Book-Title_2', 'Book-Title_3', 'Book-Title_4', 'Book-Title_5', 'Book-Title_6', 'Book-Title_7', 'Book-Title_8', 'Book-Title_9', 'Book-Title_10', 'Book-Title_11', 'Book-Title_12', 'Book-Title_13', 'Book-Title_14', 'Book-Title_15', 'Book-Title_16', 'Book-Title_17', 'Book-Title_18', 'Book-Title_19', 'Book-Title_20', 'Book-Title_21', 'Book-Title_22', 'Book-Title_23', 'Book-Title_24', 'Book-Title_25', 'Book-Title_26', 'Book-Title_27', 'Book-Title_28', 'Book-Title_29', 'Book-Title_30', 'Book-Title_31', 'Book-Title_32', 'Book-Title_33', 'Book-Title_34', 'Book-Title_35', 'Book-Title_36', 'Book-Title_37', 'Book-Title_38', 'Book-Title_39', 'Book-Title_40', 'Book-Title_41', 'Book-Title_42', 'Book-Title_43', 'Book-Title_44', 'Book-Title_45', 'Book-Title_46', 'Book-Title_47', 'Book-Title_48', 'Book-Title_49', 'Book-Title_50', 'Book-Title_51', 'Book-Title_52', 'Book-Title_53', 'Book-Title_54', 'Book-Title_55', 'Book-Title_56', 'Book-Title_57', 'Book-Title_58', 'Book-Title_59', 'Book-Title_60', 'Book-Title_61', 'Book-Title_62', 'Book-Title_63', 'Book-Title_64', 'Book-Title_65', 'Book-Title_66', 'Book-Title_67', 'Book-Title_68', 'Book-Title_69', 'Book-Title_70', 'Book-Title_71', 'Book-Title_72', 'Book-Title_73', 'Book-Title_74', 'Book-Title_75', 'Book-Title_76', 'Book-Title_77', 'Book-Title_78', 'Book-Title_79', 'Book-Title_80', 'Book-Title_81', 'Book-Title_82', 'Book-Title_83', 'Book-Title_84', 'Book-Title_85', 'Book-Title_86'], 'type': 'numeric'}, {'active': True, 'dtype': 'str', 'name': ['Book-Author', 'Year-Of-Publication', 'Publisher', 'state', 'country'], 'type': 'categorical', 'fill_na': 'unknown'}]\",\n",
      "    \"feature_specs\": \"None\",\n",
      "    \"fs1_context\": \"['Age', 'state', 'country']\",\n",
      "    \"fs2_context\": \"['Book-Author', 'Year-Of-Publication', 'Publisher', 'Book-Title_0', 'Book-Title_1', 'Book-Title_2', 'Book-Title_3', 'Book-Title_4', 'Book-Title_5', 'Book-Title_6', 'Book-Title_7', 'Book-Title_8', 'Book-Title_9', 'Book-Title_10', 'Book-Title_11', 'Book-Title_12', 'Book-Title_13', 'Book-Title_14', 'Book-Title_15', 'Book-Title_16', 'Book-Title_17', 'Book-Title_18', 'Book-Title_19', 'Book-Title_20', 'Book-Title_21', 'Book-Title_22', 'Book-Title_23', 'Book-Title_24', 'Book-Title_25', 'Book-Title_26', 'Book-Title_27', 'Book-Title_28', 'Book-Title_29', 'Book-Title_30', 'Book-Title_31', 'Book-Title_32', 'Book-Title_33', 'Book-Title_34', 'Book-Title_35', 'Book-Title_36', 'Book-Title_37', 'Book-Title_38', 'Book-Title_39', 'Book-Title_40', 'Book-Title_41', 'Book-Title_42', 'Book-Title_43', 'Book-Title_44', 'Book-Title_45', 'Book-Title_46', 'Book-Title_47', 'Book-Title_48', 'Book-Title_49', 'Book-Title_50', 'Book-Title_51', 'Book-Title_52', 'Book-Title_53', 'Book-Title_54', 'Book-Title_55', 'Book-Title_56', 'Book-Title_57', 'Book-Title_58', 'Book-Title_59', 'Book-Title_60', 'Book-Title_61', 'Book-Title_62', 'Book-Title_63', 'Book-Title_64', 'Book-Title_65', 'Book-Title_66', 'Book-Title_67', 'Book-Title_68', 'Book-Title_69', 'Book-Title_70', 'Book-Title_71', 'Book-Title_72', 'Book-Title_73', 'Book-Title_74', 'Book-Title_75', 'Book-Title_76', 'Book-Title_77', 'Book-Title_78', 'Book-Title_79', 'Book-Title_80', 'Book-Title_81', 'Book-Title_82', 'Book-Title_83', 'Book-Title_84', 'Book-Title_85', 'Book-Title_86']\",\n",
      "    \"fs_hidden_units\": \"[800]\",\n",
      "    \"gpu\": \"-1\",\n",
      "    \"group_id\": \"None\",\n",
      "    \"label_col\": \"{'dtype': 'float', 'name': 'label'}\",\n",
      "    \"learning_rate\": \"0.001\",\n",
      "    \"loss\": \"binary_crossentropy\",\n",
      "    \"metrics\": \"['AUC', 'logloss']\",\n",
      "    \"min_categr_count\": \"1\",\n",
      "    \"mlp1_batch_norm\": \"True\",\n",
      "    \"mlp1_dropout\": \"0.4\",\n",
      "    \"mlp1_hidden_activations\": \"relu\",\n",
      "    \"mlp1_hidden_units\": \"[400]\",\n",
      "    \"mlp2_batch_norm\": \"True\",\n",
      "    \"mlp2_dropout\": \"0.2\",\n",
      "    \"mlp2_hidden_activations\": \"relu\",\n",
      "    \"mlp2_hidden_units\": \"[800]\",\n",
      "    \"model\": \"FinalMLP\",\n",
      "    \"model_id\": \"FinalMLP_book\",\n",
      "    \"model_root\": \"./checkpoints/FinalMLP_book/\",\n",
      "    \"monitor\": \"AUC\",\n",
      "    \"monitor_mode\": \"max\",\n",
      "    \"net_regularizer\": \"0\",\n",
      "    \"num_heads\": \"10\",\n",
      "    \"num_workers\": \"3\",\n",
      "    \"optimizer\": \"adam\",\n",
      "    \"ordered_features\": \"None\",\n",
      "    \"pickle_feature_encoder\": \"True\",\n",
      "    \"save_best_only\": \"True\",\n",
      "    \"seed\": \"2021\",\n",
      "    \"shuffle\": \"True\",\n",
      "    \"task\": \"binary_classification\",\n",
      "    \"test_data\": \"./data/book/test.csv\",\n",
      "    \"train_data\": \"./data/book/train.csv\",\n",
      "    \"use_fs\": \"True\",\n",
      "    \"valid_data\": \"./data/book/valid.csv\",\n",
      "    \"verbose\": \"1\"\n",
      "}\n"
     ]
    }
   ],
   "source": [
    "experiment_id = 'FinalMLP_book'\n",
    "params = load_config(f\"config/{experiment_id}/\", experiment_id)\n",
    "params['gpu'] = -1\n",
    "set_logger(params)\n",
    "logging.info(\"Params: \" + print_to_json(params))\n",
    "seed_everything(seed=params['seed'])"
   ]
  },
  {
   "cell_type": "markdown",
   "metadata": {},
   "source": [
    "### Create Feature Mapping and convert data into h5 format"
   ]
  },
  {
   "cell_type": "code",
   "execution_count": 3,
   "metadata": {},
   "outputs": [
    {
     "name": "stderr",
     "output_type": "stream",
     "text": [
      "2024-02-06 11:02:36,835 P11785 INFO Set up feature processor...\n",
      "2024-02-06 11:02:36,838 P11785 WARNING Skip rebuilding ./data/book/FinalMLP_book/feature_map.json. Please delete it manually if rebuilding is required.\n",
      "2024-02-06 11:02:36,839 P11785 INFO Load feature_map from json: ./data/book/FinalMLP_book/feature_map.json\n",
      "2024-02-06 11:02:36,841 P11785 INFO Set column index...\n",
      "2024-02-06 11:02:36,842 P11785 INFO Feature specs: {\n",
      "    \"Age\": \"{'source': '', 'type': 'numeric'}\",\n",
      "    \"Book-Author\": \"{'source': '', 'type': 'categorical', 'padding_idx': 0, 'oov_idx': 50204, 'vocab_size': 50205}\",\n",
      "    \"Book-Title_0\": \"{'source': '', 'type': 'numeric'}\",\n",
      "    \"Book-Title_1\": \"{'source': '', 'type': 'numeric'}\",\n",
      "    \"Book-Title_10\": \"{'source': '', 'type': 'numeric'}\",\n",
      "    \"Book-Title_11\": \"{'source': '', 'type': 'numeric'}\",\n",
      "    \"Book-Title_12\": \"{'source': '', 'type': 'numeric'}\",\n",
      "    \"Book-Title_13\": \"{'source': '', 'type': 'numeric'}\",\n",
      "    \"Book-Title_14\": \"{'source': '', 'type': 'numeric'}\",\n",
      "    \"Book-Title_15\": \"{'source': '', 'type': 'numeric'}\",\n",
      "    \"Book-Title_16\": \"{'source': '', 'type': 'numeric'}\",\n",
      "    \"Book-Title_17\": \"{'source': '', 'type': 'numeric'}\",\n",
      "    \"Book-Title_18\": \"{'source': '', 'type': 'numeric'}\",\n",
      "    \"Book-Title_19\": \"{'source': '', 'type': 'numeric'}\",\n",
      "    \"Book-Title_2\": \"{'source': '', 'type': 'numeric'}\",\n",
      "    \"Book-Title_20\": \"{'source': '', 'type': 'numeric'}\",\n",
      "    \"Book-Title_21\": \"{'source': '', 'type': 'numeric'}\",\n",
      "    \"Book-Title_22\": \"{'source': '', 'type': 'numeric'}\",\n",
      "    \"Book-Title_23\": \"{'source': '', 'type': 'numeric'}\",\n",
      "    \"Book-Title_24\": \"{'source': '', 'type': 'numeric'}\",\n",
      "    \"Book-Title_25\": \"{'source': '', 'type': 'numeric'}\",\n",
      "    \"Book-Title_26\": \"{'source': '', 'type': 'numeric'}\",\n",
      "    \"Book-Title_27\": \"{'source': '', 'type': 'numeric'}\",\n",
      "    \"Book-Title_28\": \"{'source': '', 'type': 'numeric'}\",\n",
      "    \"Book-Title_29\": \"{'source': '', 'type': 'numeric'}\",\n",
      "    \"Book-Title_3\": \"{'source': '', 'type': 'numeric'}\",\n",
      "    \"Book-Title_30\": \"{'source': '', 'type': 'numeric'}\",\n",
      "    \"Book-Title_31\": \"{'source': '', 'type': 'numeric'}\",\n",
      "    \"Book-Title_32\": \"{'source': '', 'type': 'numeric'}\",\n",
      "    \"Book-Title_33\": \"{'source': '', 'type': 'numeric'}\",\n",
      "    \"Book-Title_34\": \"{'source': '', 'type': 'numeric'}\",\n",
      "    \"Book-Title_35\": \"{'source': '', 'type': 'numeric'}\",\n",
      "    \"Book-Title_36\": \"{'source': '', 'type': 'numeric'}\",\n",
      "    \"Book-Title_37\": \"{'source': '', 'type': 'numeric'}\",\n",
      "    \"Book-Title_38\": \"{'source': '', 'type': 'numeric'}\",\n",
      "    \"Book-Title_39\": \"{'source': '', 'type': 'numeric'}\",\n",
      "    \"Book-Title_4\": \"{'source': '', 'type': 'numeric'}\",\n",
      "    \"Book-Title_40\": \"{'source': '', 'type': 'numeric'}\",\n",
      "    \"Book-Title_41\": \"{'source': '', 'type': 'numeric'}\",\n",
      "    \"Book-Title_42\": \"{'source': '', 'type': 'numeric'}\",\n",
      "    \"Book-Title_43\": \"{'source': '', 'type': 'numeric'}\",\n",
      "    \"Book-Title_44\": \"{'source': '', 'type': 'numeric'}\",\n",
      "    \"Book-Title_45\": \"{'source': '', 'type': 'numeric'}\",\n",
      "    \"Book-Title_46\": \"{'source': '', 'type': 'numeric'}\",\n",
      "    \"Book-Title_47\": \"{'source': '', 'type': 'numeric'}\",\n",
      "    \"Book-Title_48\": \"{'source': '', 'type': 'numeric'}\",\n",
      "    \"Book-Title_49\": \"{'source': '', 'type': 'numeric'}\",\n",
      "    \"Book-Title_5\": \"{'source': '', 'type': 'numeric'}\",\n",
      "    \"Book-Title_50\": \"{'source': '', 'type': 'numeric'}\",\n",
      "    \"Book-Title_51\": \"{'source': '', 'type': 'numeric'}\",\n",
      "    \"Book-Title_52\": \"{'source': '', 'type': 'numeric'}\",\n",
      "    \"Book-Title_53\": \"{'source': '', 'type': 'numeric'}\",\n",
      "    \"Book-Title_54\": \"{'source': '', 'type': 'numeric'}\",\n",
      "    \"Book-Title_55\": \"{'source': '', 'type': 'numeric'}\",\n",
      "    \"Book-Title_56\": \"{'source': '', 'type': 'numeric'}\",\n",
      "    \"Book-Title_57\": \"{'source': '', 'type': 'numeric'}\",\n",
      "    \"Book-Title_58\": \"{'source': '', 'type': 'numeric'}\",\n",
      "    \"Book-Title_59\": \"{'source': '', 'type': 'numeric'}\",\n",
      "    \"Book-Title_6\": \"{'source': '', 'type': 'numeric'}\",\n",
      "    \"Book-Title_60\": \"{'source': '', 'type': 'numeric'}\",\n",
      "    \"Book-Title_61\": \"{'source': '', 'type': 'numeric'}\",\n",
      "    \"Book-Title_62\": \"{'source': '', 'type': 'numeric'}\",\n",
      "    \"Book-Title_63\": \"{'source': '', 'type': 'numeric'}\",\n",
      "    \"Book-Title_64\": \"{'source': '', 'type': 'numeric'}\",\n",
      "    \"Book-Title_65\": \"{'source': '', 'type': 'numeric'}\",\n",
      "    \"Book-Title_66\": \"{'source': '', 'type': 'numeric'}\",\n",
      "    \"Book-Title_67\": \"{'source': '', 'type': 'numeric'}\",\n",
      "    \"Book-Title_68\": \"{'source': '', 'type': 'numeric'}\",\n",
      "    \"Book-Title_69\": \"{'source': '', 'type': 'numeric'}\",\n",
      "    \"Book-Title_7\": \"{'source': '', 'type': 'numeric'}\",\n",
      "    \"Book-Title_70\": \"{'source': '', 'type': 'numeric'}\",\n",
      "    \"Book-Title_71\": \"{'source': '', 'type': 'numeric'}\",\n",
      "    \"Book-Title_72\": \"{'source': '', 'type': 'numeric'}\",\n",
      "    \"Book-Title_73\": \"{'source': '', 'type': 'numeric'}\",\n",
      "    \"Book-Title_74\": \"{'source': '', 'type': 'numeric'}\",\n",
      "    \"Book-Title_75\": \"{'source': '', 'type': 'numeric'}\",\n",
      "    \"Book-Title_76\": \"{'source': '', 'type': 'numeric'}\",\n",
      "    \"Book-Title_77\": \"{'source': '', 'type': 'numeric'}\",\n",
      "    \"Book-Title_78\": \"{'source': '', 'type': 'numeric'}\",\n",
      "    \"Book-Title_79\": \"{'source': '', 'type': 'numeric'}\",\n",
      "    \"Book-Title_8\": \"{'source': '', 'type': 'numeric'}\",\n",
      "    \"Book-Title_80\": \"{'source': '', 'type': 'numeric'}\",\n",
      "    \"Book-Title_81\": \"{'source': '', 'type': 'numeric'}\",\n",
      "    \"Book-Title_82\": \"{'source': '', 'type': 'numeric'}\",\n",
      "    \"Book-Title_83\": \"{'source': '', 'type': 'numeric'}\",\n",
      "    \"Book-Title_84\": \"{'source': '', 'type': 'numeric'}\",\n",
      "    \"Book-Title_85\": \"{'source': '', 'type': 'numeric'}\",\n",
      "    \"Book-Title_86\": \"{'source': '', 'type': 'numeric'}\",\n",
      "    \"Book-Title_9\": \"{'source': '', 'type': 'numeric'}\",\n",
      "    \"Publisher\": \"{'source': '', 'type': 'categorical', 'padding_idx': 0, 'oov_idx': 9799, 'vocab_size': 9800}\",\n",
      "    \"Year-Of-Publication\": \"{'source': '', 'type': 'categorical', 'padding_idx': 0, 'oov_idx': 98, 'vocab_size': 99}\",\n",
      "    \"country\": \"{'source': '', 'type': 'categorical', 'padding_idx': 0, 'oov_idx': 281, 'vocab_size': 282}\",\n",
      "    \"state\": \"{'source': '', 'type': 'categorical', 'padding_idx': 0, 'oov_idx': 1318, 'vocab_size': 1319}\"\n",
      "}\n"
     ]
    }
   ],
   "source": [
    "data_dir = os.path.join(params['data_root'], params['dataset_id'])\n",
    "feature_map_json = os.path.join(data_dir, \"feature_map.json\")\n",
    "if params[\"data_format\"] == \"csv\":\n",
    "    # Build feature_map and transform h5 data\n",
    "    feature_encoder = FeatureProcessor(**params)\n",
    "    params[\"train_data\"], params[\"valid_data\"], params[\"test_data\"] = \\\n",
    "        build_dataset(feature_encoder, **params)\n",
    "feature_map = FeatureMap(params['dataset_id'], data_dir)\n",
    "feature_map.load(feature_map_json, params)\n",
    "logging.info(\"Feature specs: \" + print_to_json(feature_map.features))"
   ]
  },
  {
   "cell_type": "markdown",
   "metadata": {},
   "source": [
    "### Train Model"
   ]
  },
  {
   "cell_type": "code",
   "execution_count": 4,
   "metadata": {},
   "outputs": [
    {
     "name": "stderr",
     "output_type": "stream",
     "text": [
      "2024-02-06 11:02:38,302 P11785 INFO Total number of parameters: 4624122.\n",
      "2024-02-06 11:02:38,303 P11785 INFO Loading data...\n",
      "2024-02-06 11:02:38,303 P11785 INFO Loading data from h5: ./data/book/FinalMLP_book/train.h5\n",
      "2024-02-06 11:02:38,901 P11785 INFO Train samples: total/268844, blocks/1\n",
      "2024-02-06 11:02:38,902 P11785 INFO Loading data from h5: ./data/book/FinalMLP_book/valid.h5\n",
      "2024-02-06 11:02:39,007 P11785 INFO Validation samples: total/39258, blocks/1\n",
      "2024-02-06 11:02:39,007 P11785 INFO Loading train and validation data done.\n",
      "2024-02-06 11:02:39,008 P11785 INFO Start training: 66 batches/epoch\n",
      "2024-02-06 11:02:39,009 P11785 INFO ************ Epoch=1 start ************\n"
     ]
    },
    {
     "name": "stdout",
     "output_type": "stream",
     "text": [
      " 98%|█████████▊| 65/66 [02:20<00:02,  2.20s/it]"
     ]
    },
    {
     "name": "stderr",
     "output_type": "stream",
     "text": [
      "2024-02-06 11:05:01,056 P11785 INFO Train loss: 2.554237\n",
      "2024-02-06 11:05:01,058 P11785 INFO Evaluation @epoch 1 - batch 66: \n"
     ]
    },
    {
     "name": "stdout",
     "output_type": "stream",
     "text": [
      "100%|██████████| 10/10 [00:07<00:00,  1.39it/s]"
     ]
    },
    {
     "name": "stderr",
     "output_type": "stream",
     "text": [
      "2024-02-06 11:05:08,312 P11785 INFO [Metrics] AUC: 0.556338\n",
      "2024-02-06 11:05:08,314 P11785 INFO Save best model: monitor(max)=0.556338\n"
     ]
    },
    {
     "name": "stdout",
     "output_type": "stream",
     "text": [
      "\n",
      "100%|██████████| 66/66 [02:29<00:00,  2.26s/it]"
     ]
    },
    {
     "name": "stderr",
     "output_type": "stream",
     "text": [
      "2024-02-06 11:05:08,442 P11785 INFO ************ Epoch=1 end ************\n"
     ]
    },
    {
     "name": "stdout",
     "output_type": "stream",
     "text": [
      "\n",
      " 98%|█████████▊| 65/66 [02:17<00:01,  1.64s/it]"
     ]
    },
    {
     "name": "stderr",
     "output_type": "stream",
     "text": [
      "2024-02-06 11:07:26,952 P11785 INFO Train loss: 1.791701\n",
      "2024-02-06 11:07:26,958 P11785 INFO Evaluation @epoch 2 - batch 66: \n"
     ]
    },
    {
     "name": "stdout",
     "output_type": "stream",
     "text": [
      "100%|██████████| 10/10 [00:05<00:00,  1.94it/s]"
     ]
    },
    {
     "name": "stderr",
     "output_type": "stream",
     "text": [
      "2024-02-06 11:07:32,162 P11785 INFO [Metrics] AUC: 0.575364\n",
      "2024-02-06 11:07:32,163 P11785 INFO Save best model: monitor(max)=0.575364\n"
     ]
    },
    {
     "name": "stdout",
     "output_type": "stream",
     "text": [
      "\n",
      "100%|██████████| 66/66 [02:23<00:00,  2.18s/it]"
     ]
    },
    {
     "name": "stderr",
     "output_type": "stream",
     "text": [
      "2024-02-06 11:07:32,232 P11785 INFO ************ Epoch=2 end ************\n"
     ]
    },
    {
     "name": "stdout",
     "output_type": "stream",
     "text": [
      "\n",
      " 98%|█████████▊| 65/66 [01:46<00:01,  1.65s/it]"
     ]
    },
    {
     "name": "stderr",
     "output_type": "stream",
     "text": [
      "2024-02-06 11:09:19,733 P11785 INFO Train loss: 1.532247\n",
      "2024-02-06 11:09:19,734 P11785 INFO Evaluation @epoch 3 - batch 66: \n"
     ]
    },
    {
     "name": "stdout",
     "output_type": "stream",
     "text": [
      "100%|██████████| 10/10 [00:05<00:00,  1.91it/s]"
     ]
    },
    {
     "name": "stderr",
     "output_type": "stream",
     "text": [
      "2024-02-06 11:09:24,998 P11785 INFO [Metrics] AUC: 0.562176\n",
      "2024-02-06 11:09:25,000 P11785 INFO Monitor(max)=0.562176 STOP!\n",
      "2024-02-06 11:09:25,000 P11785 INFO Reduce learning rate on plateau: 0.000100\n"
     ]
    },
    {
     "name": "stdout",
     "output_type": "stream",
     "text": [
      "\n",
      "100%|██████████| 66/66 [01:52<00:00,  1.71s/it]"
     ]
    },
    {
     "name": "stderr",
     "output_type": "stream",
     "text": [
      "2024-02-06 11:09:25,030 P11785 INFO ************ Epoch=3 end ************\n"
     ]
    },
    {
     "name": "stdout",
     "output_type": "stream",
     "text": [
      "\n",
      " 98%|█████████▊| 65/66 [01:47<00:01,  1.77s/it]"
     ]
    },
    {
     "name": "stderr",
     "output_type": "stream",
     "text": [
      "2024-02-06 11:11:13,566 P11785 INFO Train loss: 1.377545\n",
      "2024-02-06 11:11:13,568 P11785 INFO Evaluation @epoch 4 - batch 66: \n"
     ]
    },
    {
     "name": "stdout",
     "output_type": "stream",
     "text": [
      "100%|██████████| 10/10 [00:05<00:00,  1.76it/s]"
     ]
    },
    {
     "name": "stderr",
     "output_type": "stream",
     "text": [
      "2024-02-06 11:11:19,269 P11785 INFO [Metrics] AUC: 0.585566\n",
      "2024-02-06 11:11:19,271 P11785 INFO Save best model: monitor(max)=0.585566\n"
     ]
    },
    {
     "name": "stdout",
     "output_type": "stream",
     "text": [
      "\n",
      "100%|██████████| 66/66 [01:54<00:00,  1.73s/it]"
     ]
    },
    {
     "name": "stderr",
     "output_type": "stream",
     "text": [
      "2024-02-06 11:11:19,346 P11785 INFO ************ Epoch=4 end ************\n"
     ]
    },
    {
     "name": "stdout",
     "output_type": "stream",
     "text": [
      "\n",
      " 98%|█████████▊| 65/66 [01:48<00:01,  1.65s/it]"
     ]
    },
    {
     "name": "stderr",
     "output_type": "stream",
     "text": [
      "2024-02-06 11:13:08,963 P11785 INFO Train loss: 1.346729\n",
      "2024-02-06 11:13:08,964 P11785 INFO Evaluation @epoch 5 - batch 66: \n"
     ]
    },
    {
     "name": "stdout",
     "output_type": "stream",
     "text": [
      "100%|██████████| 10/10 [00:05<00:00,  1.72it/s]"
     ]
    },
    {
     "name": "stderr",
     "output_type": "stream",
     "text": [
      "2024-02-06 11:13:14,827 P11785 INFO [Metrics] AUC: 0.585339\n",
      "2024-02-06 11:13:14,828 P11785 INFO Monitor(max)=0.585339 STOP!\n",
      "2024-02-06 11:13:14,829 P11785 INFO Reduce learning rate on plateau: 0.000010\n"
     ]
    },
    {
     "name": "stdout",
     "output_type": "stream",
     "text": [
      "\n",
      "100%|██████████| 66/66 [01:55<00:00,  1.75s/it]"
     ]
    },
    {
     "name": "stderr",
     "output_type": "stream",
     "text": [
      "2024-02-06 11:13:14,861 P11785 INFO ************ Epoch=5 end ************\n"
     ]
    },
    {
     "name": "stdout",
     "output_type": "stream",
     "text": [
      "\n",
      " 98%|█████████▊| 65/66 [01:53<00:01,  1.89s/it]"
     ]
    },
    {
     "name": "stderr",
     "output_type": "stream",
     "text": [
      "2024-02-06 11:15:09,535 P11785 INFO Train loss: 1.326153\n",
      "2024-02-06 11:15:09,536 P11785 INFO Evaluation @epoch 6 - batch 66: \n"
     ]
    },
    {
     "name": "stdout",
     "output_type": "stream",
     "text": [
      "100%|██████████| 10/10 [00:06<00:00,  1.66it/s]"
     ]
    },
    {
     "name": "stderr",
     "output_type": "stream",
     "text": [
      "2024-02-06 11:15:15,605 P11785 INFO [Metrics] AUC: 0.586875\n",
      "2024-02-06 11:15:15,607 P11785 INFO Save best model: monitor(max)=0.586875\n"
     ]
    },
    {
     "name": "stdout",
     "output_type": "stream",
     "text": [
      "\n",
      "100%|██████████| 66/66 [02:00<00:00,  1.83s/it]"
     ]
    },
    {
     "name": "stderr",
     "output_type": "stream",
     "text": [
      "2024-02-06 11:15:15,680 P11785 INFO ************ Epoch=6 end ************\n"
     ]
    },
    {
     "name": "stdout",
     "output_type": "stream",
     "text": [
      "\n",
      " 98%|█████████▊| 65/66 [01:53<00:01,  1.74s/it]"
     ]
    },
    {
     "name": "stderr",
     "output_type": "stream",
     "text": [
      "2024-02-06 11:17:10,449 P11785 INFO Train loss: 1.322943\n",
      "2024-02-06 11:17:10,450 P11785 INFO Evaluation @epoch 7 - batch 66: \n"
     ]
    },
    {
     "name": "stdout",
     "output_type": "stream",
     "text": [
      "100%|██████████| 10/10 [00:05<00:00,  1.78it/s]"
     ]
    },
    {
     "name": "stderr",
     "output_type": "stream",
     "text": [
      "2024-02-06 11:17:16,092 P11785 INFO [Metrics] AUC: 0.587163\n",
      "2024-02-06 11:17:16,094 P11785 INFO Save best model: monitor(max)=0.587163\n"
     ]
    },
    {
     "name": "stdout",
     "output_type": "stream",
     "text": [
      "\n",
      "100%|██████████| 66/66 [02:00<00:00,  1.83s/it]"
     ]
    },
    {
     "name": "stderr",
     "output_type": "stream",
     "text": [
      "2024-02-06 11:17:16,167 P11785 INFO ************ Epoch=7 end ************\n"
     ]
    },
    {
     "name": "stdout",
     "output_type": "stream",
     "text": [
      "\n",
      " 98%|█████████▊| 65/66 [01:54<00:01,  1.71s/it]"
     ]
    },
    {
     "name": "stderr",
     "output_type": "stream",
     "text": [
      "2024-02-06 11:19:11,559 P11785 INFO Train loss: 1.320301\n",
      "2024-02-06 11:19:11,560 P11785 INFO Evaluation @epoch 8 - batch 66: \n"
     ]
    },
    {
     "name": "stdout",
     "output_type": "stream",
     "text": [
      "100%|██████████| 10/10 [00:05<00:00,  1.79it/s]"
     ]
    },
    {
     "name": "stderr",
     "output_type": "stream",
     "text": [
      "2024-02-06 11:19:17,196 P11785 INFO [Metrics] AUC: 0.588297\n",
      "2024-02-06 11:19:17,198 P11785 INFO Save best model: monitor(max)=0.588297\n"
     ]
    },
    {
     "name": "stdout",
     "output_type": "stream",
     "text": [
      "\n",
      "100%|██████████| 66/66 [02:01<00:00,  1.83s/it]"
     ]
    },
    {
     "name": "stderr",
     "output_type": "stream",
     "text": [
      "2024-02-06 11:19:17,268 P11785 INFO ************ Epoch=8 end ************\n"
     ]
    },
    {
     "name": "stdout",
     "output_type": "stream",
     "text": [
      "\n",
      " 98%|█████████▊| 65/66 [01:53<00:01,  1.95s/it]"
     ]
    },
    {
     "name": "stderr",
     "output_type": "stream",
     "text": [
      "2024-02-06 11:21:12,295 P11785 INFO Train loss: 1.317902\n",
      "2024-02-06 11:21:12,318 P11785 INFO Evaluation @epoch 9 - batch 66: \n"
     ]
    },
    {
     "name": "stdout",
     "output_type": "stream",
     "text": [
      "100%|██████████| 10/10 [00:07<00:00,  1.34it/s]"
     ]
    },
    {
     "name": "stderr",
     "output_type": "stream",
     "text": [
      "2024-02-06 11:21:19,814 P11785 INFO [Metrics] AUC: 0.588388\n",
      "2024-02-06 11:21:19,834 P11785 INFO Save best model: monitor(max)=0.588388\n"
     ]
    },
    {
     "name": "stdout",
     "output_type": "stream",
     "text": [
      "\n",
      "100%|██████████| 66/66 [02:02<00:00,  1.86s/it]"
     ]
    },
    {
     "name": "stderr",
     "output_type": "stream",
     "text": [
      "2024-02-06 11:21:19,947 P11785 INFO ************ Epoch=9 end ************\n"
     ]
    },
    {
     "name": "stdout",
     "output_type": "stream",
     "text": [
      "\n",
      " 98%|█████████▊| 65/66 [01:57<00:01,  1.82s/it]"
     ]
    },
    {
     "name": "stderr",
     "output_type": "stream",
     "text": [
      "2024-02-06 11:23:18,662 P11785 INFO Train loss: 1.315660\n",
      "2024-02-06 11:23:18,665 P11785 INFO Evaluation @epoch 10 - batch 66: \n"
     ]
    },
    {
     "name": "stdout",
     "output_type": "stream",
     "text": [
      "100%|██████████| 10/10 [00:05<00:00,  1.76it/s]"
     ]
    },
    {
     "name": "stderr",
     "output_type": "stream",
     "text": [
      "2024-02-06 11:23:24,398 P11785 INFO [Metrics] AUC: 0.588281\n",
      "2024-02-06 11:23:24,399 P11785 INFO Monitor(max)=0.588281 STOP!\n",
      "2024-02-06 11:23:24,400 P11785 INFO Reduce learning rate on plateau: 0.000001\n"
     ]
    },
    {
     "name": "stdout",
     "output_type": "stream",
     "text": [
      "\n",
      "100%|██████████| 66/66 [02:04<00:00,  1.89s/it]"
     ]
    },
    {
     "name": "stderr",
     "output_type": "stream",
     "text": [
      "2024-02-06 11:23:24,436 P11785 INFO ************ Epoch=10 end ************\n",
      "2024-02-06 11:23:24,449 P11785 INFO Training finished.\n",
      "2024-02-06 11:23:24,450 P11785 INFO Load best model: /Users/rafael/Documents/large-language-models/FinalMLP/checkpoints/FinalMLP_book/FinalMLP_book/FinalMLP_book.model\n"
     ]
    },
    {
     "name": "stdout",
     "output_type": "stream",
     "text": [
      "\n"
     ]
    }
   ],
   "source": [
    "model_class = getattr(src, params['model'])\n",
    "model = model_class(feature_map, **params)\n",
    "model.count_parameters() # print number of parameters used in model\n",
    "\n",
    "train_gen, valid_gen = H5DataLoader(feature_map, stage='train', **params).make_iterator()\n",
    "model.fit(train_gen, validation_data=valid_gen, **params)"
   ]
  },
  {
   "cell_type": "markdown",
   "metadata": {},
   "source": [
    "### Evaluate Model in Validation set"
   ]
  },
  {
   "cell_type": "code",
   "execution_count": 7,
   "metadata": {},
   "outputs": [
    {
     "name": "stderr",
     "output_type": "stream",
     "text": [
      "2024-02-06 12:14:54,218 P11785 INFO ****** Validation evaluation ******\n"
     ]
    },
    {
     "name": "stdout",
     "output_type": "stream",
     "text": [
      "100%|██████████| 10/10 [00:05<00:00,  1.83it/s]"
     ]
    },
    {
     "name": "stderr",
     "output_type": "stream",
     "text": [
      "2024-02-06 12:14:59,717 P11785 INFO [Metrics] AUC: 0.588388 - logloss: 0.685490\n"
     ]
    },
    {
     "name": "stdout",
     "output_type": "stream",
     "text": [
      "\n"
     ]
    },
    {
     "data": {
      "text/plain": [
       "129"
      ]
     },
     "execution_count": 7,
     "metadata": {},
     "output_type": "execute_result"
    }
   ],
   "source": [
    "logging.info('****** Validation evaluation ******')\n",
    "valid_result = model.evaluate(valid_gen)\n",
    "del train_gen, valid_gen\n",
    "gc.collect()"
   ]
  },
  {
   "cell_type": "markdown",
   "metadata": {},
   "source": [
    "### Predict in unseen data"
   ]
  },
  {
   "cell_type": "code",
   "execution_count": 19,
   "metadata": {},
   "outputs": [
    {
     "name": "stderr",
     "output_type": "stream",
     "text": [
      "2024-02-06 12:32:50,295 P11785 INFO Loading data...\n",
      "2024-02-06 12:32:50,296 P11785 INFO Loading data from h5: ./data/book/FinalMLP_book/test.h5\n",
      "2024-02-06 12:32:50,421 P11785 INFO Test samples: total/75740, blocks/1\n",
      "2024-02-06 12:32:50,422 P11785 INFO Loading test data done.\n"
     ]
    },
    {
     "name": "stdout",
     "output_type": "stream",
     "text": [
      "100%|██████████| 75740/75740 [09:08<00:00, 138.08it/s]\n"
     ]
    }
   ],
   "source": [
    "# to score all observations\n",
    "params['batch_size'] = 1\n",
    "test_gen = H5DataLoader(feature_map, stage='test', **params).make_iterator()\n",
    "test_df['score'] = model.predict(test_gen)"
   ]
  },
  {
   "cell_type": "markdown",
   "metadata": {},
   "source": [
    "### Calculate nDCG"
   ]
  },
  {
   "cell_type": "code",
   "execution_count": 10,
   "metadata": {},
   "outputs": [
    {
     "data": {
      "text/html": [
       "<div>\n",
       "<style scoped>\n",
       "    .dataframe tbody tr th:only-of-type {\n",
       "        vertical-align: middle;\n",
       "    }\n",
       "\n",
       "    .dataframe tbody tr th {\n",
       "        vertical-align: top;\n",
       "    }\n",
       "\n",
       "    .dataframe thead th {\n",
       "        text-align: right;\n",
       "    }\n",
       "</style>\n",
       "<table border=\"1\" class=\"dataframe\">\n",
       "  <thead>\n",
       "    <tr style=\"text-align: right;\">\n",
       "      <th></th>\n",
       "      <th>Location</th>\n",
       "      <th>Age</th>\n",
       "      <th>ISBN</th>\n",
       "      <th>Book-Rating</th>\n",
       "      <th>Book-Title</th>\n",
       "      <th>Book-Author</th>\n",
       "      <th>Year-Of-Publication</th>\n",
       "      <th>Publisher</th>\n",
       "      <th>Image-URL-S</th>\n",
       "      <th>Image-URL-M</th>\n",
       "      <th>...</th>\n",
       "      <th>Book-Title_78</th>\n",
       "      <th>Book-Title_79</th>\n",
       "      <th>Book-Title_80</th>\n",
       "      <th>Book-Title_81</th>\n",
       "      <th>Book-Title_82</th>\n",
       "      <th>Book-Title_83</th>\n",
       "      <th>Book-Title_84</th>\n",
       "      <th>Book-Title_85</th>\n",
       "      <th>Book-Title_86</th>\n",
       "      <th>score</th>\n",
       "    </tr>\n",
       "    <tr>\n",
       "      <th>User-ID</th>\n",
       "      <th></th>\n",
       "      <th></th>\n",
       "      <th></th>\n",
       "      <th></th>\n",
       "      <th></th>\n",
       "      <th></th>\n",
       "      <th></th>\n",
       "      <th></th>\n",
       "      <th></th>\n",
       "      <th></th>\n",
       "      <th></th>\n",
       "      <th></th>\n",
       "      <th></th>\n",
       "      <th></th>\n",
       "      <th></th>\n",
       "      <th></th>\n",
       "      <th></th>\n",
       "      <th></th>\n",
       "      <th></th>\n",
       "      <th></th>\n",
       "      <th></th>\n",
       "    </tr>\n",
       "  </thead>\n",
       "  <tbody>\n",
       "    <tr>\n",
       "      <th>1113</th>\n",
       "      <td>4</td>\n",
       "      <td>4</td>\n",
       "      <td>4</td>\n",
       "      <td>4</td>\n",
       "      <td>4</td>\n",
       "      <td>4</td>\n",
       "      <td>4</td>\n",
       "      <td>4</td>\n",
       "      <td>4</td>\n",
       "      <td>4</td>\n",
       "      <td>...</td>\n",
       "      <td>4</td>\n",
       "      <td>4</td>\n",
       "      <td>4</td>\n",
       "      <td>4</td>\n",
       "      <td>4</td>\n",
       "      <td>4</td>\n",
       "      <td>4</td>\n",
       "      <td>4</td>\n",
       "      <td>4</td>\n",
       "      <td>4</td>\n",
       "    </tr>\n",
       "    <tr>\n",
       "      <th>1178</th>\n",
       "      <td>4</td>\n",
       "      <td>4</td>\n",
       "      <td>4</td>\n",
       "      <td>4</td>\n",
       "      <td>4</td>\n",
       "      <td>4</td>\n",
       "      <td>4</td>\n",
       "      <td>4</td>\n",
       "      <td>4</td>\n",
       "      <td>4</td>\n",
       "      <td>...</td>\n",
       "      <td>4</td>\n",
       "      <td>4</td>\n",
       "      <td>4</td>\n",
       "      <td>4</td>\n",
       "      <td>4</td>\n",
       "      <td>4</td>\n",
       "      <td>4</td>\n",
       "      <td>4</td>\n",
       "      <td>4</td>\n",
       "      <td>4</td>\n",
       "    </tr>\n",
       "    <tr>\n",
       "      <th>1725</th>\n",
       "      <td>4</td>\n",
       "      <td>4</td>\n",
       "      <td>4</td>\n",
       "      <td>4</td>\n",
       "      <td>4</td>\n",
       "      <td>4</td>\n",
       "      <td>4</td>\n",
       "      <td>4</td>\n",
       "      <td>4</td>\n",
       "      <td>4</td>\n",
       "      <td>...</td>\n",
       "      <td>4</td>\n",
       "      <td>4</td>\n",
       "      <td>4</td>\n",
       "      <td>4</td>\n",
       "      <td>4</td>\n",
       "      <td>4</td>\n",
       "      <td>4</td>\n",
       "      <td>4</td>\n",
       "      <td>4</td>\n",
       "      <td>4</td>\n",
       "    </tr>\n",
       "    <tr>\n",
       "      <th>1898</th>\n",
       "      <td>4</td>\n",
       "      <td>4</td>\n",
       "      <td>4</td>\n",
       "      <td>4</td>\n",
       "      <td>4</td>\n",
       "      <td>4</td>\n",
       "      <td>4</td>\n",
       "      <td>4</td>\n",
       "      <td>4</td>\n",
       "      <td>4</td>\n",
       "      <td>...</td>\n",
       "      <td>4</td>\n",
       "      <td>4</td>\n",
       "      <td>4</td>\n",
       "      <td>4</td>\n",
       "      <td>4</td>\n",
       "      <td>4</td>\n",
       "      <td>4</td>\n",
       "      <td>4</td>\n",
       "      <td>4</td>\n",
       "      <td>4</td>\n",
       "    </tr>\n",
       "    <tr>\n",
       "      <th>2375</th>\n",
       "      <td>4</td>\n",
       "      <td>4</td>\n",
       "      <td>4</td>\n",
       "      <td>4</td>\n",
       "      <td>4</td>\n",
       "      <td>4</td>\n",
       "      <td>4</td>\n",
       "      <td>4</td>\n",
       "      <td>4</td>\n",
       "      <td>4</td>\n",
       "      <td>...</td>\n",
       "      <td>4</td>\n",
       "      <td>4</td>\n",
       "      <td>4</td>\n",
       "      <td>4</td>\n",
       "      <td>4</td>\n",
       "      <td>4</td>\n",
       "      <td>4</td>\n",
       "      <td>4</td>\n",
       "      <td>4</td>\n",
       "      <td>4</td>\n",
       "    </tr>\n",
       "    <tr>\n",
       "      <th>...</th>\n",
       "      <td>...</td>\n",
       "      <td>...</td>\n",
       "      <td>...</td>\n",
       "      <td>...</td>\n",
       "      <td>...</td>\n",
       "      <td>...</td>\n",
       "      <td>...</td>\n",
       "      <td>...</td>\n",
       "      <td>...</td>\n",
       "      <td>...</td>\n",
       "      <td>...</td>\n",
       "      <td>...</td>\n",
       "      <td>...</td>\n",
       "      <td>...</td>\n",
       "      <td>...</td>\n",
       "      <td>...</td>\n",
       "      <td>...</td>\n",
       "      <td>...</td>\n",
       "      <td>...</td>\n",
       "      <td>...</td>\n",
       "      <td>...</td>\n",
       "    </tr>\n",
       "    <tr>\n",
       "      <th>275793</th>\n",
       "      <td>4</td>\n",
       "      <td>4</td>\n",
       "      <td>4</td>\n",
       "      <td>4</td>\n",
       "      <td>4</td>\n",
       "      <td>4</td>\n",
       "      <td>4</td>\n",
       "      <td>4</td>\n",
       "      <td>4</td>\n",
       "      <td>4</td>\n",
       "      <td>...</td>\n",
       "      <td>4</td>\n",
       "      <td>4</td>\n",
       "      <td>4</td>\n",
       "      <td>4</td>\n",
       "      <td>4</td>\n",
       "      <td>4</td>\n",
       "      <td>4</td>\n",
       "      <td>4</td>\n",
       "      <td>4</td>\n",
       "      <td>4</td>\n",
       "    </tr>\n",
       "    <tr>\n",
       "      <th>277554</th>\n",
       "      <td>4</td>\n",
       "      <td>4</td>\n",
       "      <td>4</td>\n",
       "      <td>4</td>\n",
       "      <td>4</td>\n",
       "      <td>4</td>\n",
       "      <td>4</td>\n",
       "      <td>4</td>\n",
       "      <td>4</td>\n",
       "      <td>4</td>\n",
       "      <td>...</td>\n",
       "      <td>4</td>\n",
       "      <td>4</td>\n",
       "      <td>4</td>\n",
       "      <td>4</td>\n",
       "      <td>4</td>\n",
       "      <td>4</td>\n",
       "      <td>4</td>\n",
       "      <td>4</td>\n",
       "      <td>4</td>\n",
       "      <td>4</td>\n",
       "    </tr>\n",
       "    <tr>\n",
       "      <th>277873</th>\n",
       "      <td>4</td>\n",
       "      <td>4</td>\n",
       "      <td>4</td>\n",
       "      <td>4</td>\n",
       "      <td>4</td>\n",
       "      <td>4</td>\n",
       "      <td>4</td>\n",
       "      <td>4</td>\n",
       "      <td>4</td>\n",
       "      <td>4</td>\n",
       "      <td>...</td>\n",
       "      <td>4</td>\n",
       "      <td>4</td>\n",
       "      <td>4</td>\n",
       "      <td>4</td>\n",
       "      <td>4</td>\n",
       "      <td>4</td>\n",
       "      <td>4</td>\n",
       "      <td>4</td>\n",
       "      <td>4</td>\n",
       "      <td>4</td>\n",
       "    </tr>\n",
       "    <tr>\n",
       "      <th>278243</th>\n",
       "      <td>4</td>\n",
       "      <td>4</td>\n",
       "      <td>4</td>\n",
       "      <td>4</td>\n",
       "      <td>4</td>\n",
       "      <td>4</td>\n",
       "      <td>4</td>\n",
       "      <td>4</td>\n",
       "      <td>4</td>\n",
       "      <td>4</td>\n",
       "      <td>...</td>\n",
       "      <td>4</td>\n",
       "      <td>4</td>\n",
       "      <td>4</td>\n",
       "      <td>4</td>\n",
       "      <td>4</td>\n",
       "      <td>4</td>\n",
       "      <td>4</td>\n",
       "      <td>4</td>\n",
       "      <td>4</td>\n",
       "      <td>4</td>\n",
       "    </tr>\n",
       "    <tr>\n",
       "      <th>278543</th>\n",
       "      <td>4</td>\n",
       "      <td>4</td>\n",
       "      <td>4</td>\n",
       "      <td>4</td>\n",
       "      <td>4</td>\n",
       "      <td>4</td>\n",
       "      <td>4</td>\n",
       "      <td>4</td>\n",
       "      <td>4</td>\n",
       "      <td>4</td>\n",
       "      <td>...</td>\n",
       "      <td>4</td>\n",
       "      <td>4</td>\n",
       "      <td>4</td>\n",
       "      <td>4</td>\n",
       "      <td>4</td>\n",
       "      <td>4</td>\n",
       "      <td>4</td>\n",
       "      <td>4</td>\n",
       "      <td>4</td>\n",
       "      <td>4</td>\n",
       "    </tr>\n",
       "  </tbody>\n",
       "</table>\n",
       "<p>556 rows × 103 columns</p>\n",
       "</div>"
      ],
      "text/plain": [
       "         Location  Age  ISBN  Book-Rating  Book-Title  Book-Author  \\\n",
       "User-ID                                                              \n",
       "1113            4    4     4            4           4            4   \n",
       "1178            4    4     4            4           4            4   \n",
       "1725            4    4     4            4           4            4   \n",
       "1898            4    4     4            4           4            4   \n",
       "2375            4    4     4            4           4            4   \n",
       "...           ...  ...   ...          ...         ...          ...   \n",
       "275793          4    4     4            4           4            4   \n",
       "277554          4    4     4            4           4            4   \n",
       "277873          4    4     4            4           4            4   \n",
       "278243          4    4     4            4           4            4   \n",
       "278543          4    4     4            4           4            4   \n",
       "\n",
       "         Year-Of-Publication  Publisher  Image-URL-S  Image-URL-M  ...  \\\n",
       "User-ID                                                            ...   \n",
       "1113                       4          4            4            4  ...   \n",
       "1178                       4          4            4            4  ...   \n",
       "1725                       4          4            4            4  ...   \n",
       "1898                       4          4            4            4  ...   \n",
       "2375                       4          4            4            4  ...   \n",
       "...                      ...        ...          ...          ...  ...   \n",
       "275793                     4          4            4            4  ...   \n",
       "277554                     4          4            4            4  ...   \n",
       "277873                     4          4            4            4  ...   \n",
       "278243                     4          4            4            4  ...   \n",
       "278543                     4          4            4            4  ...   \n",
       "\n",
       "         Book-Title_78  Book-Title_79  Book-Title_80  Book-Title_81  \\\n",
       "User-ID                                                               \n",
       "1113                 4              4              4              4   \n",
       "1178                 4              4              4              4   \n",
       "1725                 4              4              4              4   \n",
       "1898                 4              4              4              4   \n",
       "2375                 4              4              4              4   \n",
       "...                ...            ...            ...            ...   \n",
       "275793               4              4              4              4   \n",
       "277554               4              4              4              4   \n",
       "277873               4              4              4              4   \n",
       "278243               4              4              4              4   \n",
       "278543               4              4              4              4   \n",
       "\n",
       "         Book-Title_82  Book-Title_83  Book-Title_84  Book-Title_85  \\\n",
       "User-ID                                                               \n",
       "1113                 4              4              4              4   \n",
       "1178                 4              4              4              4   \n",
       "1725                 4              4              4              4   \n",
       "1898                 4              4              4              4   \n",
       "2375                 4              4              4              4   \n",
       "...                ...            ...            ...            ...   \n",
       "275793               4              4              4              4   \n",
       "277554               4              4              4              4   \n",
       "277873               4              4              4              4   \n",
       "278243               4              4              4              4   \n",
       "278543               4              4              4              4   \n",
       "\n",
       "         Book-Title_86  score  \n",
       "User-ID                        \n",
       "1113                 4      4  \n",
       "1178                 4      4  \n",
       "1725                 4      4  \n",
       "1898                 4      4  \n",
       "2375                 4      4  \n",
       "...                ...    ...  \n",
       "275793               4      4  \n",
       "277554               4      4  \n",
       "277873               4      4  \n",
       "278243               4      4  \n",
       "278543               4      4  \n",
       "\n",
       "[556 rows x 103 columns]"
      ]
     },
     "execution_count": 10,
     "metadata": {},
     "output_type": "execute_result"
    }
   ],
   "source": [
    "x = test_df.groupby('User-ID').count()\n",
    "x[x['Location']==4]"
   ]
  },
  {
   "cell_type": "code",
   "execution_count": 11,
   "metadata": {},
   "outputs": [
    {
     "data": {
      "text/html": [
       "<div>\n",
       "<style scoped>\n",
       "    .dataframe tbody tr th:only-of-type {\n",
       "        vertical-align: middle;\n",
       "    }\n",
       "\n",
       "    .dataframe tbody tr th {\n",
       "        vertical-align: top;\n",
       "    }\n",
       "\n",
       "    .dataframe thead th {\n",
       "        text-align: right;\n",
       "    }\n",
       "</style>\n",
       "<table border=\"1\" class=\"dataframe\">\n",
       "  <thead>\n",
       "    <tr style=\"text-align: right;\">\n",
       "      <th></th>\n",
       "      <th>User-ID</th>\n",
       "      <th>Location</th>\n",
       "      <th>Age</th>\n",
       "      <th>ISBN</th>\n",
       "      <th>Book-Rating</th>\n",
       "      <th>Book-Title</th>\n",
       "      <th>Book-Author</th>\n",
       "      <th>Year-Of-Publication</th>\n",
       "      <th>Publisher</th>\n",
       "      <th>Image-URL-S</th>\n",
       "      <th>...</th>\n",
       "      <th>Book-Title_78</th>\n",
       "      <th>Book-Title_79</th>\n",
       "      <th>Book-Title_80</th>\n",
       "      <th>Book-Title_81</th>\n",
       "      <th>Book-Title_82</th>\n",
       "      <th>Book-Title_83</th>\n",
       "      <th>Book-Title_84</th>\n",
       "      <th>Book-Title_85</th>\n",
       "      <th>Book-Title_86</th>\n",
       "      <th>score</th>\n",
       "    </tr>\n",
       "  </thead>\n",
       "  <tbody>\n",
       "    <tr>\n",
       "      <th>1922</th>\n",
       "      <td>1113</td>\n",
       "      <td>richmond, missouri, usa</td>\n",
       "      <td>22.0</td>\n",
       "      <td>0385324057</td>\n",
       "      <td>9.0</td>\n",
       "      <td>Summer Sisters</td>\n",
       "      <td>Judy Blume</td>\n",
       "      <td>1998.0</td>\n",
       "      <td>Delacorte Press</td>\n",
       "      <td>http://images.amazon.com/images/P/0385324057.0...</td>\n",
       "      <td>...</td>\n",
       "      <td>-0.002478</td>\n",
       "      <td>-0.026928</td>\n",
       "      <td>-0.019609</td>\n",
       "      <td>-0.004716</td>\n",
       "      <td>0.016400</td>\n",
       "      <td>0.016824</td>\n",
       "      <td>0.017282</td>\n",
       "      <td>-0.007433</td>\n",
       "      <td>-0.053584</td>\n",
       "      <td>0.629512</td>\n",
       "    </tr>\n",
       "    <tr>\n",
       "      <th>1929</th>\n",
       "      <td>1113</td>\n",
       "      <td>richmond, missouri, usa</td>\n",
       "      <td>22.0</td>\n",
       "      <td>0718001044</td>\n",
       "      <td>6.0</td>\n",
       "      <td>Nelson's Bedtime Bible Stories : 150 Passages ...</td>\n",
       "      <td>Paul Gross</td>\n",
       "      <td>2002.0</td>\n",
       "      <td>Nelson Bibles</td>\n",
       "      <td>http://images.amazon.com/images/P/0718001044.0...</td>\n",
       "      <td>...</td>\n",
       "      <td>0.019390</td>\n",
       "      <td>0.051667</td>\n",
       "      <td>-0.042692</td>\n",
       "      <td>0.086322</td>\n",
       "      <td>0.057860</td>\n",
       "      <td>-0.003253</td>\n",
       "      <td>0.000059</td>\n",
       "      <td>-0.029090</td>\n",
       "      <td>0.022567</td>\n",
       "      <td>0.705878</td>\n",
       "    </tr>\n",
       "    <tr>\n",
       "      <th>1931</th>\n",
       "      <td>1113</td>\n",
       "      <td>richmond, missouri, usa</td>\n",
       "      <td>22.0</td>\n",
       "      <td>0812515722</td>\n",
       "      <td>5.0</td>\n",
       "      <td>American Gothic</td>\n",
       "      <td>Robert Bloch</td>\n",
       "      <td>1987.0</td>\n",
       "      <td>Tor Books (Mm)</td>\n",
       "      <td>http://images.amazon.com/images/P/0812515722.0...</td>\n",
       "      <td>...</td>\n",
       "      <td>-0.030428</td>\n",
       "      <td>0.031332</td>\n",
       "      <td>0.053563</td>\n",
       "      <td>0.000056</td>\n",
       "      <td>0.035796</td>\n",
       "      <td>-0.060127</td>\n",
       "      <td>0.005436</td>\n",
       "      <td>-0.059500</td>\n",
       "      <td>-0.009195</td>\n",
       "      <td>0.416608</td>\n",
       "    </tr>\n",
       "    <tr>\n",
       "      <th>1932</th>\n",
       "      <td>1113</td>\n",
       "      <td>richmond, missouri, usa</td>\n",
       "      <td>22.0</td>\n",
       "      <td>0848705459</td>\n",
       "      <td>8.0</td>\n",
       "      <td>Cooking Light</td>\n",
       "      <td>Susan M. McIntosh</td>\n",
       "      <td>1983.0</td>\n",
       "      <td>Leisure Arts</td>\n",
       "      <td>http://images.amazon.com/images/P/0848705459.0...</td>\n",
       "      <td>...</td>\n",
       "      <td>0.014944</td>\n",
       "      <td>-0.055379</td>\n",
       "      <td>-0.040794</td>\n",
       "      <td>-0.054969</td>\n",
       "      <td>0.039721</td>\n",
       "      <td>0.096347</td>\n",
       "      <td>-0.020843</td>\n",
       "      <td>0.009250</td>\n",
       "      <td>0.113928</td>\n",
       "      <td>0.661156</td>\n",
       "    </tr>\n",
       "  </tbody>\n",
       "</table>\n",
       "<p>4 rows × 104 columns</p>\n",
       "</div>"
      ],
      "text/plain": [
       "      User-ID                 Location   Age        ISBN  Book-Rating  \\\n",
       "1922     1113  richmond, missouri, usa  22.0  0385324057          9.0   \n",
       "1929     1113  richmond, missouri, usa  22.0  0718001044          6.0   \n",
       "1931     1113  richmond, missouri, usa  22.0  0812515722          5.0   \n",
       "1932     1113  richmond, missouri, usa  22.0  0848705459          8.0   \n",
       "\n",
       "                                             Book-Title        Book-Author  \\\n",
       "1922                                     Summer Sisters         Judy Blume   \n",
       "1929  Nelson's Bedtime Bible Stories : 150 Passages ...         Paul Gross   \n",
       "1931                                    American Gothic       Robert Bloch   \n",
       "1932                                      Cooking Light  Susan M. McIntosh   \n",
       "\n",
       "      Year-Of-Publication        Publisher  \\\n",
       "1922               1998.0  Delacorte Press   \n",
       "1929               2002.0    Nelson Bibles   \n",
       "1931               1987.0   Tor Books (Mm)   \n",
       "1932               1983.0     Leisure Arts   \n",
       "\n",
       "                                            Image-URL-S  ... Book-Title_78  \\\n",
       "1922  http://images.amazon.com/images/P/0385324057.0...  ...     -0.002478   \n",
       "1929  http://images.amazon.com/images/P/0718001044.0...  ...      0.019390   \n",
       "1931  http://images.amazon.com/images/P/0812515722.0...  ...     -0.030428   \n",
       "1932  http://images.amazon.com/images/P/0848705459.0...  ...      0.014944   \n",
       "\n",
       "     Book-Title_79 Book-Title_80 Book-Title_81 Book-Title_82  Book-Title_83  \\\n",
       "1922     -0.026928     -0.019609     -0.004716      0.016400       0.016824   \n",
       "1929      0.051667     -0.042692      0.086322      0.057860      -0.003253   \n",
       "1931      0.031332      0.053563      0.000056      0.035796      -0.060127   \n",
       "1932     -0.055379     -0.040794     -0.054969      0.039721       0.096347   \n",
       "\n",
       "      Book-Title_84  Book-Title_85  Book-Title_86     score  \n",
       "1922       0.017282      -0.007433      -0.053584  0.629512  \n",
       "1929       0.000059      -0.029090       0.022567  0.705878  \n",
       "1931       0.005436      -0.059500      -0.009195  0.416608  \n",
       "1932      -0.020843       0.009250       0.113928  0.661156  \n",
       "\n",
       "[4 rows x 104 columns]"
      ]
     },
     "execution_count": 11,
     "metadata": {},
     "output_type": "execute_result"
    }
   ],
   "source": [
    "# let's use user 278843 that has more than 1 book rated\n",
    "test_df[test_df['User-ID'] == 1113]"
   ]
  },
  {
   "cell_type": "code",
   "execution_count": 12,
   "metadata": {},
   "outputs": [
    {
     "data": {
      "text/plain": [
       "0.9218783397780327"
      ]
     },
     "execution_count": 12,
     "metadata": {},
     "output_type": "execute_result"
    }
   ],
   "source": [
    "true_relevance = np.asarray([test_df[test_df['User-ID'] == 1113]['Book-Rating'].tolist()])\n",
    "y_relevance = np.asarray([test_df[test_df['User-ID'] == 1113]['score'].tolist()])\n",
    "\n",
    "ndcg_score(true_relevance, y_relevance) "
   ]
  }
 ],
 "metadata": {
  "kernelspec": {
   "display_name": "tide",
   "language": "python",
   "name": "python3"
  },
  "language_info": {
   "codemirror_mode": {
    "name": "ipython",
    "version": 3
   },
   "file_extension": ".py",
   "mimetype": "text/x-python",
   "name": "python",
   "nbconvert_exporter": "python",
   "pygments_lexer": "ipython3",
   "version": "3.7.16"
  }
 },
 "nbformat": 4,
 "nbformat_minor": 2
}
